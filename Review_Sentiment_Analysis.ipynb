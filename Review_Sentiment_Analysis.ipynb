{
  "cells": [
    {
      "cell_type": "markdown",
      "metadata": {
        "id": "view-in-github",
        "colab_type": "text"
      },
      "source": [
        "<a href=\"https://colab.research.google.com/github/joyboy994/Review_Sentiment_Analysis/blob/main/Review_Sentiment_Analysis.ipynb\" target=\"_parent\"><img src=\"https://colab.research.google.com/assets/colab-badge.svg\" alt=\"Open In Colab\"/></a>"
      ]
    },
    {
      "cell_type": "code",
      "execution_count": null,
      "id": "01546c2c",
      "metadata": {
        "id": "01546c2c"
      },
      "outputs": [],
      "source": [
        "import nltk\n",
        "import numpy as np\n",
        "import pandas as pd\n",
        "import seaborn as sns\n",
        "import matplotlib.pyplot as plt\n",
        "from nltk.tokenize import word_tokenize\n",
        "from nltk.corpus import stopwords\n",
        "from wordcloud import WordCloud, STOPWORDS\n",
        "from nltk.stem import WordNetLemmatizer\n",
        "from sklearn.feature_extraction.text import CountVectorizer\n",
        "from sklearn.feature_extraction.text import TfidfVectorizer"
      ]
    },
    {
      "cell_type": "code",
      "execution_count": null,
      "id": "3ca3f29d",
      "metadata": {
        "id": "3ca3f29d",
        "outputId": "65b8327a-c351-4047-8d29-46a2cad276ec"
      },
      "outputs": [
        {
          "data": {
            "text/html": [
              "<div>\n",
              "<style scoped>\n",
              "    .dataframe tbody tr th:only-of-type {\n",
              "        vertical-align: middle;\n",
              "    }\n",
              "\n",
              "    .dataframe tbody tr th {\n",
              "        vertical-align: top;\n",
              "    }\n",
              "\n",
              "    .dataframe thead th {\n",
              "        text-align: right;\n",
              "    }\n",
              "</style>\n",
              "<table border=\"1\" class=\"dataframe\">\n",
              "  <thead>\n",
              "    <tr style=\"text-align: right;\">\n",
              "      <th></th>\n",
              "      <th>Unnamed: 0</th>\n",
              "      <th>review</th>\n",
              "      <th>sentiment</th>\n",
              "    </tr>\n",
              "  </thead>\n",
              "  <tbody>\n",
              "    <tr>\n",
              "      <th>0</th>\n",
              "      <td>0</td>\n",
              "      <td>Not sure who was more lost - the flat characte...</td>\n",
              "      <td>0</td>\n",
              "    </tr>\n",
              "    <tr>\n",
              "      <th>1</th>\n",
              "      <td>1</td>\n",
              "      <td>Attempting artiness with black &amp; white and cle...</td>\n",
              "      <td>0</td>\n",
              "    </tr>\n",
              "    <tr>\n",
              "      <th>2</th>\n",
              "      <td>2</td>\n",
              "      <td>Very little music or anything to speak of.</td>\n",
              "      <td>0</td>\n",
              "    </tr>\n",
              "    <tr>\n",
              "      <th>3</th>\n",
              "      <td>3</td>\n",
              "      <td>The best scene in the movie was when Gerardo i...</td>\n",
              "      <td>1</td>\n",
              "    </tr>\n",
              "    <tr>\n",
              "      <th>4</th>\n",
              "      <td>4</td>\n",
              "      <td>The rest of the movie lacks art, charm, meanin...</td>\n",
              "      <td>0</td>\n",
              "    </tr>\n",
              "  </tbody>\n",
              "</table>\n",
              "</div>"
            ],
            "text/plain": [
              "   Unnamed: 0                                             review  sentiment\n",
              "0           0  Not sure who was more lost - the flat characte...          0\n",
              "1           1  Attempting artiness with black & white and cle...          0\n",
              "2           2         Very little music or anything to speak of.          0\n",
              "3           3  The best scene in the movie was when Gerardo i...          1\n",
              "4           4  The rest of the movie lacks art, charm, meanin...          0"
            ]
          },
          "execution_count": 2,
          "metadata": {},
          "output_type": "execute_result"
        }
      ],
      "source": [
        "# To load dataset\n",
        "\n",
        "df=pd.read_csv(\"review.csv\", encoding='latin-1')\n",
        "df.head()"
      ]
    },
    {
      "cell_type": "code",
      "execution_count": null,
      "id": "0e3c7c20",
      "metadata": {
        "id": "0e3c7c20",
        "outputId": "06416a35-14f3-4e6a-c49c-9473cdbcb1ed"
      },
      "outputs": [
        {
          "data": {
            "text/plain": [
              "(999, 3)"
            ]
          },
          "execution_count": 3,
          "metadata": {},
          "output_type": "execute_result"
        }
      ],
      "source": [
        "# To check the total number of data in the dataset\n",
        "df.shape"
      ]
    },
    {
      "cell_type": "code",
      "execution_count": null,
      "id": "b7efc970",
      "metadata": {
        "id": "b7efc970"
      },
      "outputs": [],
      "source": [
        "# To remove unwanted columns permanently removing them\n",
        "df.drop(['Unnamed: 0'], axis=1, inplace=True)"
      ]
    },
    {
      "cell_type": "code",
      "execution_count": null,
      "id": "e205a83b",
      "metadata": {
        "id": "e205a83b",
        "outputId": "8569fbdf-82ff-4a79-a753-f9f6592e1e3b"
      },
      "outputs": [
        {
          "data": {
            "text/html": [
              "<div>\n",
              "<style scoped>\n",
              "    .dataframe tbody tr th:only-of-type {\n",
              "        vertical-align: middle;\n",
              "    }\n",
              "\n",
              "    .dataframe tbody tr th {\n",
              "        vertical-align: top;\n",
              "    }\n",
              "\n",
              "    .dataframe thead th {\n",
              "        text-align: right;\n",
              "    }\n",
              "</style>\n",
              "<table border=\"1\" class=\"dataframe\">\n",
              "  <thead>\n",
              "    <tr style=\"text-align: right;\">\n",
              "      <th></th>\n",
              "      <th>review</th>\n",
              "      <th>sentiment</th>\n",
              "    </tr>\n",
              "  </thead>\n",
              "  <tbody>\n",
              "    <tr>\n",
              "      <th>0</th>\n",
              "      <td>Not sure who was more lost - the flat characte...</td>\n",
              "      <td>0</td>\n",
              "    </tr>\n",
              "    <tr>\n",
              "      <th>1</th>\n",
              "      <td>Attempting artiness with black &amp; white and cle...</td>\n",
              "      <td>0</td>\n",
              "    </tr>\n",
              "    <tr>\n",
              "      <th>2</th>\n",
              "      <td>Very little music or anything to speak of.</td>\n",
              "      <td>0</td>\n",
              "    </tr>\n",
              "    <tr>\n",
              "      <th>3</th>\n",
              "      <td>The best scene in the movie was when Gerardo i...</td>\n",
              "      <td>1</td>\n",
              "    </tr>\n",
              "    <tr>\n",
              "      <th>4</th>\n",
              "      <td>The rest of the movie lacks art, charm, meanin...</td>\n",
              "      <td>0</td>\n",
              "    </tr>\n",
              "  </tbody>\n",
              "</table>\n",
              "</div>"
            ],
            "text/plain": [
              "                                              review  sentiment\n",
              "0  Not sure who was more lost - the flat characte...          0\n",
              "1  Attempting artiness with black & white and cle...          0\n",
              "2         Very little music or anything to speak of.          0\n",
              "3  The best scene in the movie was when Gerardo i...          1\n",
              "4  The rest of the movie lacks art, charm, meanin...          0"
            ]
          },
          "execution_count": 5,
          "metadata": {},
          "output_type": "execute_result"
        }
      ],
      "source": [
        "df.head()"
      ]
    },
    {
      "cell_type": "code",
      "execution_count": null,
      "id": "ba948399",
      "metadata": {
        "id": "ba948399",
        "outputId": "07ca3f40-0f96-4025-e353-f21032a505ce"
      },
      "outputs": [
        {
          "data": {
            "text/plain": [
              "review       0\n",
              "sentiment    0\n",
              "dtype: int64"
            ]
          },
          "execution_count": 6,
          "metadata": {},
          "output_type": "execute_result"
        }
      ],
      "source": [
        "# To check Null values\n",
        "df.isnull().sum()"
      ]
    },
    {
      "cell_type": "code",
      "execution_count": null,
      "id": "b72e2384",
      "metadata": {
        "id": "b72e2384",
        "outputId": "109fea72-68a8-48d7-ac70-e04003ffe504"
      },
      "outputs": [
        {
          "data": {
            "text/plain": [
              "review       object\n",
              "sentiment     int64\n",
              "dtype: object"
            ]
          },
          "execution_count": 7,
          "metadata": {},
          "output_type": "execute_result"
        }
      ],
      "source": [
        "# To check datatype\n",
        "df.dtypes"
      ]
    },
    {
      "cell_type": "code",
      "execution_count": null,
      "id": "f25dd0fd",
      "metadata": {
        "id": "f25dd0fd",
        "outputId": "e47585f0-2169-433e-82c6-f45e7fc41200"
      },
      "outputs": [
        {
          "data": {
            "text/plain": [
              "1    500\n",
              "0    499\n",
              "Name: sentiment, dtype: int64"
            ]
          },
          "execution_count": 8,
          "metadata": {},
          "output_type": "execute_result"
        }
      ],
      "source": [
        "# Here sentiment is a target or output variable which is predict\n",
        "# How many class present in sentiment column\n",
        "df['sentiment'].value_counts()"
      ]
    },
    {
      "cell_type": "code",
      "execution_count": null,
      "id": "62cb2494",
      "metadata": {
        "id": "62cb2494",
        "outputId": "217846df-6940-41b2-deac-2c1ff4df9b67"
      },
      "outputs": [
        {
          "data": {
            "text/plain": [
              "review       object\n",
              "sentiment     int64\n",
              "dtype: object"
            ]
          },
          "execution_count": 9,
          "metadata": {},
          "output_type": "execute_result"
        }
      ],
      "source": [
        "# Applying LabelEncoder on sentiment column\n",
        "from sklearn.preprocessing import LabelEncoder\n",
        "# Create object of LabelEncoder class\n",
        "le=LabelEncoder()\n",
        "df['sentiment']=le.fit_transform(df['sentiment'])\n",
        "df.dtypes"
      ]
    },
    {
      "cell_type": "code",
      "execution_count": null,
      "id": "3fcd8694",
      "metadata": {
        "id": "3fcd8694",
        "outputId": "0a83255c-107d-467d-cd8d-788636ce9022"
      },
      "outputs": [
        {
          "data": {
            "text/plain": [
              "1    500\n",
              "0    499\n",
              "Name: sentiment, dtype: int64"
            ]
          },
          "execution_count": 10,
          "metadata": {},
          "output_type": "execute_result"
        }
      ],
      "source": [
        "df['sentiment'].value_counts()"
      ]
    },
    {
      "cell_type": "code",
      "execution_count": null,
      "id": "0ee44747",
      "metadata": {
        "id": "0ee44747",
        "outputId": "4a403365-f4b8-4793-a647-460c3b61c823"
      },
      "outputs": [
        {
          "data": {
            "image/png": "[encoded data removed]",
            "text/plain": [
              "<Figure size 500x500 with 1 Axes>"
            ]
          },
          "metadata": {},
          "output_type": "display_data"
        }
      ],
      "source": [
        "# First create a WordCloud for spam category\n",
        "# Create onject of WordCloud class\n",
        "\n",
        "wc=WordCloud(width=800, height=800, background_color='black', stopwords=STOPWORDS, min_font_size=10)\n",
        "msg=df[df['sentiment']==1][\"review\"]\n",
        "# print(msg)\n",
        "msg=\"\".join(msg)\n",
        "# print(msg)\n",
        "wc.generate(msg)\n",
        "plt.figure(figsize=(5, 5))\n",
        "plt.imshow(wc) # imshow() inbuilt method og matplotlib.pyplot, imshow means image show\n",
        "plt.axis('off')\n",
        "\n",
        "plt.show()"
      ]
    },
    {
      "cell_type": "code",
      "execution_count": null,
      "id": "4feeecea",
      "metadata": {
        "id": "4feeecea",
        "outputId": "a837c19f-ab56-49ac-deb9-53148e313e69"
      },
      "outputs": [
        {
          "data": {
            "image/png": "[encoded data removed]",
            "text/plain": [
              "<Figure size 500x500 with 1 Axes>"
            ]
          },
          "metadata": {},
          "output_type": "display_data"
        }
      ],
      "source": [
        "# First create a WordCloud for spam category\n",
        "# Create onject of WordCloud class\n",
        "\n",
        "wc=WordCloud(width=800, height=800, background_color='black', stopwords=STOPWORDS, min_font_size=10)\n",
        "msg=df[df['sentiment']==0][\"review\"]\n",
        "# print(msg)\n",
        "msg=\"\".join(msg)\n",
        "# print(msg)\n",
        "wc.generate(msg)\n",
        "plt.figure(figsize=(5, 5))\n",
        "plt.imshow(wc) # imshow() inbuilt method og matplotlib.pyplot, imshow means image show\n",
        "plt.axis('off')\n",
        "\n",
        "plt.show()"
      ]
    },
    {
      "cell_type": "code",
      "execution_count": null,
      "id": "8ffc2fc7",
      "metadata": {
        "id": "8ffc2fc7"
      },
      "outputs": [],
      "source": [
        "# Text Preprocessing apply on Input column message\n",
        "#1. list of stop words\n",
        "stop=stopwords.words('english') # stop used defined object of stopwords class"
      ]
    },
    {
      "cell_type": "code",
      "execution_count": null,
      "id": "27422bdf",
      "metadata": {
        "id": "27422bdf"
      },
      "outputs": [],
      "source": [
        "# Create user defined function for text preprocessing\n",
        "def clean_text(msg):   # clean_text is a user defined function name and msg is input parameter\n",
        "    # First step: convert messages into lower case\n",
        "    msg=msg.lower()\n",
        "    # Second step: We use Tokenizers means sentence break into words(tokens)\n",
        "    tokens=word_tokenize(msg)\n",
        "    # print(tokens)\n",
        "    # isalpha(): Only given string is alphabets only\n",
        "    # filtering only alphabets, use list comprehension\n",
        "    words=[t for t in tokens if t.isalpha()] # only retrieves the alphabets in the given sentence from msg and removes all the special characters and numerical values.\n",
        "    # print(\"\\n After removing number and special characters.\")\n",
        "    # print(words)\n",
        "\n",
        "    # Next step to remove stopwords\n",
        "    words=[w for w in words if w not in stop]\n",
        "    # print(words)\n",
        "\n",
        "    # Next step is Lemmatization\n",
        "    # Create the object of WordLemmatizer class\n",
        "    lemma=WordNetLemmatizer()\n",
        "    lemma_words=[lemma.lemmatize(w) for w in words]\n",
        "    # print(lemma_words)\n",
        "    return \" \".join(lemma_words)"
      ]
    },
    {
      "cell_type": "code",
      "execution_count": null,
      "id": "b64c0617",
      "metadata": {
        "id": "b64c0617",
        "outputId": "39fede73-e747-4ded-93f8-12f84efb0307"
      },
      "outputs": [
        {
          "data": {
            "text/plain": [
              "0      sure lost flat character audience nearly half ...\n",
              "1      attempting artiness black white clever camera ...\n",
              "2                            little music anything speak\n",
              "3      best scene movie gerardo trying find song keep...\n",
              "4      rest movie lack art charm meaning emptiness wo...\n",
              "                             ...                        \n",
              "994        got bored watching jessice lange take clothes\n",
              "995    unfortunately virtue film production work lost...\n",
              "996                                    word embarrassing\n",
              "997                                    exceptionally bad\n",
              "998             insult one intelligence huge waste money\n",
              "Name: review, Length: 999, dtype: object"
            ]
          },
          "execution_count": 15,
          "metadata": {},
          "output_type": "execute_result"
        }
      ],
      "source": [
        "# Apply user defined function clean_text() on the entire rows of Message column in our dataset\n",
        "df['review']=df['review'].apply(clean_text)\n",
        "df['review']"
      ]
    },
    {
      "cell_type": "code",
      "execution_count": null,
      "id": "6837bfb8",
      "metadata": {
        "id": "6837bfb8",
        "outputId": "f3bd6f4d-c0ff-42c9-dfaf-0d8770764cc8"
      },
      "outputs": [
        {
          "data": {
            "text/html": [
              "<div>\n",
              "<style scoped>\n",
              "    .dataframe tbody tr th:only-of-type {\n",
              "        vertical-align: middle;\n",
              "    }\n",
              "\n",
              "    .dataframe tbody tr th {\n",
              "        vertical-align: top;\n",
              "    }\n",
              "\n",
              "    .dataframe thead th {\n",
              "        text-align: right;\n",
              "    }\n",
              "</style>\n",
              "<table border=\"1\" class=\"dataframe\">\n",
              "  <thead>\n",
              "    <tr style=\"text-align: right;\">\n",
              "      <th></th>\n",
              "      <th>review</th>\n",
              "      <th>sentiment</th>\n",
              "    </tr>\n",
              "  </thead>\n",
              "  <tbody>\n",
              "    <tr>\n",
              "      <th>0</th>\n",
              "      <td>sure lost flat character audience nearly half ...</td>\n",
              "      <td>0</td>\n",
              "    </tr>\n",
              "    <tr>\n",
              "      <th>1</th>\n",
              "      <td>attempting artiness black white clever camera ...</td>\n",
              "      <td>0</td>\n",
              "    </tr>\n",
              "    <tr>\n",
              "      <th>2</th>\n",
              "      <td>little music anything speak</td>\n",
              "      <td>0</td>\n",
              "    </tr>\n",
              "    <tr>\n",
              "      <th>3</th>\n",
              "      <td>best scene movie gerardo trying find song keep...</td>\n",
              "      <td>1</td>\n",
              "    </tr>\n",
              "    <tr>\n",
              "      <th>4</th>\n",
              "      <td>rest movie lack art charm meaning emptiness wo...</td>\n",
              "      <td>0</td>\n",
              "    </tr>\n",
              "  </tbody>\n",
              "</table>\n",
              "</div>"
            ],
            "text/plain": [
              "                                              review  sentiment\n",
              "0  sure lost flat character audience nearly half ...          0\n",
              "1  attempting artiness black white clever camera ...          0\n",
              "2                        little music anything speak          0\n",
              "3  best scene movie gerardo trying find song keep...          1\n",
              "4  rest movie lack art charm meaning emptiness wo...          0"
            ]
          },
          "execution_count": 16,
          "metadata": {},
          "output_type": "execute_result"
        }
      ],
      "source": [
        "df.head()"
      ]
    },
    {
      "cell_type": "code",
      "execution_count": null,
      "id": "687e0ed9",
      "metadata": {
        "id": "687e0ed9"
      },
      "outputs": [],
      "source": [
        "# Seperate intput and output from given dataset df\n",
        "X=df['review'] # input\n",
        "Y=df['sentiment'] # Output"
      ]
    },
    {
      "cell_type": "code",
      "execution_count": null,
      "id": "2053937e",
      "metadata": {
        "id": "2053937e"
      },
      "outputs": [],
      "source": [
        "# traintestsplit\n",
        "# split data into train test (70%-30%)\n",
        "from sklearn.model_selection import train_test_split\n",
        "X_train,X_test,Y_train,Y_test=train_test_split(X, Y, test_size=0.3, random_state=1)"
      ]
    },
    {
      "cell_type": "code",
      "execution_count": null,
      "id": "a6a7dd69",
      "metadata": {
        "id": "a6a7dd69",
        "outputId": "c4d74031-475f-4d8c-bd50-66f860d7d8c1"
      },
      "outputs": [
        {
          "data": {
            "text/plain": [
              "((699,), (300,))"
            ]
          },
          "execution_count": 19,
          "metadata": {},
          "output_type": "execute_result"
        }
      ],
      "source": [
        "X_train.shape,X_test.shape"
      ]
    },
    {
      "cell_type": "code",
      "execution_count": null,
      "id": "48a3dfb2",
      "metadata": {
        "id": "48a3dfb2",
        "outputId": "c5b22b22-271d-488d-c136-f2926fdd6127"
      },
      "outputs": [
        {
          "data": {
            "text/plain": [
              "((699,), (300,))"
            ]
          },
          "execution_count": 20,
          "metadata": {},
          "output_type": "execute_result"
        }
      ],
      "source": [
        "Y_train.shape,Y_test.shape"
      ]
    },
    {
      "cell_type": "code",
      "execution_count": null,
      "id": "90d462da",
      "metadata": {
        "id": "90d462da"
      },
      "outputs": [],
      "source": [
        "# Count the number of words in each records in given dataset\n",
        "# Declare empty list for whole number of words\n",
        "sent_len=[]  # User defined list object\n",
        "for sent in df['review']:\n",
        "    sent_len.append(len(word_tokenize(sent)))\n",
        "\n",
        "# To add new_column for word length in given dataset df\n",
        "df['sent_length']=sent_len"
      ]
    },
    {
      "cell_type": "code",
      "execution_count": null,
      "id": "08bcfcfb",
      "metadata": {
        "id": "08bcfcfb",
        "outputId": "93059eae-996b-4669-fc4e-e472e8453926"
      },
      "outputs": [
        {
          "data": {
            "text/html": [
              "<div>\n",
              "<style scoped>\n",
              "    .dataframe tbody tr th:only-of-type {\n",
              "        vertical-align: middle;\n",
              "    }\n",
              "\n",
              "    .dataframe tbody tr th {\n",
              "        vertical-align: top;\n",
              "    }\n",
              "\n",
              "    .dataframe thead th {\n",
              "        text-align: right;\n",
              "    }\n",
              "</style>\n",
              "<table border=\"1\" class=\"dataframe\">\n",
              "  <thead>\n",
              "    <tr style=\"text-align: right;\">\n",
              "      <th></th>\n",
              "      <th>review</th>\n",
              "      <th>sentiment</th>\n",
              "      <th>sent_length</th>\n",
              "    </tr>\n",
              "  </thead>\n",
              "  <tbody>\n",
              "    <tr>\n",
              "      <th>0</th>\n",
              "      <td>sure lost flat character audience nearly half ...</td>\n",
              "      <td>0</td>\n",
              "      <td>8</td>\n",
              "    </tr>\n",
              "    <tr>\n",
              "      <th>1</th>\n",
              "      <td>attempting artiness black white clever camera ...</td>\n",
              "      <td>0</td>\n",
              "      <td>17</td>\n",
              "    </tr>\n",
              "    <tr>\n",
              "      <th>2</th>\n",
              "      <td>little music anything speak</td>\n",
              "      <td>0</td>\n",
              "      <td>4</td>\n",
              "    </tr>\n",
              "    <tr>\n",
              "      <th>3</th>\n",
              "      <td>best scene movie gerardo trying find song keep...</td>\n",
              "      <td>1</td>\n",
              "      <td>10</td>\n",
              "    </tr>\n",
              "    <tr>\n",
              "      <th>4</th>\n",
              "      <td>rest movie lack art charm meaning emptiness wo...</td>\n",
              "      <td>0</td>\n",
              "      <td>10</td>\n",
              "    </tr>\n",
              "    <tr>\n",
              "      <th>5</th>\n",
              "      <td>wasted two hour</td>\n",
              "      <td>0</td>\n",
              "      <td>3</td>\n",
              "    </tr>\n",
              "    <tr>\n",
              "      <th>6</th>\n",
              "      <td>saw movie today thought good effort good messa...</td>\n",
              "      <td>1</td>\n",
              "      <td>9</td>\n",
              "    </tr>\n",
              "    <tr>\n",
              "      <th>7</th>\n",
              "      <td>bit predictable</td>\n",
              "      <td>0</td>\n",
              "      <td>2</td>\n",
              "    </tr>\n",
              "    <tr>\n",
              "      <th>8</th>\n",
              "      <td>loved casting jimmy buffet science teacher</td>\n",
              "      <td>1</td>\n",
              "      <td>6</td>\n",
              "    </tr>\n",
              "    <tr>\n",
              "      <th>9</th>\n",
              "      <td>baby owl adorable</td>\n",
              "      <td>1</td>\n",
              "      <td>3</td>\n",
              "    </tr>\n",
              "  </tbody>\n",
              "</table>\n",
              "</div>"
            ],
            "text/plain": [
              "                                              review  sentiment  sent_length\n",
              "0  sure lost flat character audience nearly half ...          0            8\n",
              "1  attempting artiness black white clever camera ...          0           17\n",
              "2                        little music anything speak          0            4\n",
              "3  best scene movie gerardo trying find song keep...          1           10\n",
              "4  rest movie lack art charm meaning emptiness wo...          0           10\n",
              "5                                    wasted two hour          0            3\n",
              "6  saw movie today thought good effort good messa...          1            9\n",
              "7                                    bit predictable          0            2\n",
              "8         loved casting jimmy buffet science teacher          1            6\n",
              "9                                  baby owl adorable          1            3"
            ]
          },
          "execution_count": 22,
          "metadata": {},
          "output_type": "execute_result"
        }
      ],
      "source": [
        "df.head(10)"
      ]
    },
    {
      "cell_type": "code",
      "execution_count": null,
      "id": "16893280",
      "metadata": {
        "id": "16893280",
        "outputId": "7aa7f8d4-f595-4901-cbd0-b6026dc87607"
      },
      "outputs": [
        {
          "data": {
            "text/plain": [
              "38"
            ]
          },
          "execution_count": 23,
          "metadata": {},
          "output_type": "execute_result"
        }
      ],
      "source": [
        "# To find the maximum length\n",
        "max(sent_len)"
      ]
    },
    {
      "cell_type": "code",
      "execution_count": null,
      "id": "a2f2263c",
      "metadata": {
        "id": "a2f2263c",
        "outputId": "9e3ebf1e-9c13-4a85-981d-415c49e34c48"
      },
      "outputs": [
        {
          "data": {
            "text/plain": [
              "0"
            ]
          },
          "execution_count": 24,
          "metadata": {},
          "output_type": "execute_result"
        }
      ],
      "source": [
        "# To find the minimum length\n",
        "min(sent_len)"
      ]
    },
    {
      "cell_type": "code",
      "execution_count": null,
      "id": "ca9df6ae",
      "metadata": {
        "id": "ca9df6ae",
        "outputId": "215ff338-363f-4987-8c74-f9095ab4871d"
      },
      "outputs": [
        {
          "data": {
            "text/plain": [
              "5     126\n",
              "3     109\n",
              "4     104\n",
              "2      93\n",
              "7      81\n",
              "6      75\n",
              "8      63\n",
              "9      61\n",
              "10     39\n",
              "1      39\n",
              "12     38\n",
              "11     37\n",
              "14     25\n",
              "13     24\n",
              "15     14\n",
              "16     13\n",
              "17      9\n",
              "21      8\n",
              "19      8\n",
              "18      7\n",
              "20      5\n",
              "0       3\n",
              "24      3\n",
              "26      3\n",
              "23      2\n",
              "22      2\n",
              "28      2\n",
              "27      1\n",
              "38      1\n",
              "36      1\n",
              "30      1\n",
              "33      1\n",
              "25      1\n",
              "Name: sent_length, dtype: int64"
            ]
          },
          "execution_count": 25,
          "metadata": {},
          "output_type": "execute_result"
        }
      ],
      "source": [
        "df['sent_length'].value_counts()"
      ]
    },
    {
      "cell_type": "code",
      "execution_count": null,
      "id": "bfac555e",
      "metadata": {
        "id": "bfac555e",
        "outputId": "a352f9c0-bc75-43cd-c237-331dfbb87b50"
      },
      "outputs": [
        {
          "data": {
            "text/plain": [
              "17.0"
            ]
          },
          "execution_count": 26,
          "metadata": {},
          "output_type": "execute_result"
        }
      ],
      "source": [
        "np.quantile(sent_len, 0.95)   #95% means 95/100=0.95"
      ]
    },
    {
      "cell_type": "code",
      "execution_count": null,
      "id": "587dd2e6",
      "metadata": {
        "id": "587dd2e6"
      },
      "outputs": [],
      "source": [
        "# We can see that 95% review text are of lengths less than or equal to 17\n",
        "# We will keep the max length to 17\n",
        "max_length=17"
      ]
    },
    {
      "cell_type": "code",
      "execution_count": null,
      "id": "011d6e49",
      "metadata": {
        "id": "011d6e49",
        "outputId": "24fd107f-a505-4fb8-cbe9-e7c684057ba8"
      },
      "outputs": [
        {
          "name": "stdout",
          "output_type": "stream",
          "text": [
            "WARNING:tensorflow:From C:\\Users\\Dell Latitude 3520\\anaconda3\\lib\\site-packages\\keras\\src\\losses.py:2976: The name tf.losses.sparse_softmax_cross_entropy is deprecated. Please use tf.compat.v1.losses.sparse_softmax_cross_entropy instead.\n",
            "\n"
          ]
        }
      ],
      "source": [
        "# Tokenization: word level and provide index to each and every word in given input\n",
        "from tensorflow.keras.preprocessing.text import Tokenizer"
      ]
    },
    {
      "cell_type": "code",
      "execution_count": null,
      "id": "7150ab14",
      "metadata": {
        "id": "7150ab14"
      },
      "outputs": [],
      "source": [
        "# Create object of Tokenize class\n",
        "tok=Tokenizer(char_level=False,split=' ')  # Tokenize word level\n",
        "# Provide index to each words of X_train\n",
        "tok.fit_on_texts(X_train) # fit_on_texts() inuilt method of Tokenizer"
      ]
    },
    {
      "cell_type": "code",
      "execution_count": null,
      "id": "ab62f79d",
      "metadata": {
        "id": "ab62f79d",
        "outputId": "955968cb-d38e-4637-b5c0-4f89b22cc96d"
      },
      "outputs": [
        {
          "data": {
            "text/plain": [
              "{1: 'movie',\n",
              " 2: 'film',\n",
              " 3: 'one',\n",
              " 4: 'character',\n",
              " 5: 'bad',\n",
              " 6: 'like',\n",
              " 7: 'time',\n",
              " 8: 'good',\n",
              " 9: 'even',\n",
              " 10: 'acting',\n",
              " 11: 'great',\n",
              " 12: 'scene',\n",
              " 13: 'well',\n",
              " 14: 'really',\n",
              " 15: 'see',\n",
              " 16: 'story',\n",
              " 17: 'best',\n",
              " 18: 'made',\n",
              " 19: 'actor',\n",
              " 20: 'make',\n",
              " 21: 'plot',\n",
              " 22: 'work',\n",
              " 23: 'wonderful',\n",
              " 24: 'better',\n",
              " 25: 'look',\n",
              " 26: 'ever',\n",
              " 27: 'thing',\n",
              " 28: 'could',\n",
              " 29: 'also',\n",
              " 30: 'love',\n",
              " 31: 'way',\n",
              " 32: 'real',\n",
              " 33: 'seen',\n",
              " 34: 'part',\n",
              " 35: 'would',\n",
              " 36: 'think',\n",
              " 37: 'performance',\n",
              " 38: 'get',\n",
              " 39: 'excellent',\n",
              " 40: 'much',\n",
              " 41: 'year',\n",
              " 42: 'nothing',\n",
              " 43: 'anyone',\n",
              " 44: 'script',\n",
              " 45: 'line',\n",
              " 46: 'never',\n",
              " 47: 'funny',\n",
              " 48: 'little',\n",
              " 49: 'watch',\n",
              " 50: 'recommend',\n",
              " 51: 'cast',\n",
              " 52: 'life',\n",
              " 53: 'man',\n",
              " 54: 'music',\n",
              " 55: 'go',\n",
              " 56: 'watching',\n",
              " 57: 'stupid',\n",
              " 58: 'many',\n",
              " 59: 'two',\n",
              " 60: 'lot',\n",
              " 61: 'people',\n",
              " 62: 'awful',\n",
              " 63: 'terrible',\n",
              " 64: 'worth',\n",
              " 65: 'pretty',\n",
              " 66: 'still',\n",
              " 67: 'art',\n",
              " 68: 'saw',\n",
              " 69: 'give',\n",
              " 70: 'worse',\n",
              " 71: 'interesting',\n",
              " 72: 'waste',\n",
              " 73: 'dialogue',\n",
              " 74: 'actually',\n",
              " 75: 'liked',\n",
              " 76: 'effect',\n",
              " 77: 'short',\n",
              " 78: 'thought',\n",
              " 79: 'writing',\n",
              " 80: 'show',\n",
              " 81: 'truly',\n",
              " 82: 'suck',\n",
              " 83: 'minute',\n",
              " 84: 'ca',\n",
              " 85: 'played',\n",
              " 86: 'first',\n",
              " 87: 'watched',\n",
              " 88: 'worst',\n",
              " 89: 'feeling',\n",
              " 90: 'loved',\n",
              " 91: 'special',\n",
              " 92: 'every',\n",
              " 93: 'totally',\n",
              " 94: 'least',\n",
              " 95: 'piece',\n",
              " 96: 'game',\n",
              " 97: 'know',\n",
              " 98: 'screen',\n",
              " 99: 'predictable',\n",
              " 100: 'going',\n",
              " 101: 'enough',\n",
              " 102: 'ending',\n",
              " 103: 'cinema',\n",
              " 104: 'everything',\n",
              " 105: 'almost',\n",
              " 106: 'shot',\n",
              " 107: 'black',\n",
              " 108: 'directing',\n",
              " 109: 'director',\n",
              " 110: 'highly',\n",
              " 111: 'however',\n",
              " 112: 'wasted',\n",
              " 113: 'beautiful',\n",
              " 114: 'though',\n",
              " 115: 'simply',\n",
              " 116: 'mess',\n",
              " 117: 'right',\n",
              " 118: 'hour',\n",
              " 119: 'probably',\n",
              " 120: 'whole',\n",
              " 121: 'certainly',\n",
              " 122: 'find',\n",
              " 123: 'action',\n",
              " 124: 'comedy',\n",
              " 125: 'playing',\n",
              " 126: 'long',\n",
              " 127: 'seeing',\n",
              " 128: 'song',\n",
              " 129: 'absolutely',\n",
              " 130: 'family',\n",
              " 131: 'take',\n",
              " 132: 'camera',\n",
              " 133: 'tv',\n",
              " 134: 'want',\n",
              " 135: 'definitely',\n",
              " 136: 'top',\n",
              " 137: 'flick',\n",
              " 138: 'child',\n",
              " 139: 'far',\n",
              " 140: 'kind',\n",
              " 141: 'understand',\n",
              " 142: 'hole',\n",
              " 143: 'cinematography',\n",
              " 144: 'say',\n",
              " 145: 'big',\n",
              " 146: 'enjoyed',\n",
              " 147: 'girl',\n",
              " 148: 'another',\n",
              " 149: 'quite',\n",
              " 150: 'job',\n",
              " 151: 'poor',\n",
              " 152: 'attempt',\n",
              " 153: 'mention',\n",
              " 154: 'horror',\n",
              " 155: 'amazing',\n",
              " 156: 'turn',\n",
              " 157: 'style',\n",
              " 158: 'especially',\n",
              " 159: 'use',\n",
              " 160: 'particularly',\n",
              " 161: 'sound',\n",
              " 162: 'boring',\n",
              " 163: 'throughout',\n",
              " 164: 'believable',\n",
              " 165: 'history',\n",
              " 166: 'fan',\n",
              " 167: 'clever',\n",
              " 168: 'editing',\n",
              " 169: 'avoid',\n",
              " 170: 'play',\n",
              " 171: 'experience',\n",
              " 172: 'hilarious',\n",
              " 173: 'everyone',\n",
              " 174: 'series',\n",
              " 175: 'full',\n",
              " 176: 'money',\n",
              " 177: 'let',\n",
              " 178: 'since',\n",
              " 179: 'mostly',\n",
              " 180: 'lead',\n",
              " 181: 'involved',\n",
              " 182: 'second',\n",
              " 183: 'wo',\n",
              " 184: 'believe',\n",
              " 185: 'crap',\n",
              " 186: 'drama',\n",
              " 187: 'word',\n",
              " 188: 'fine',\n",
              " 189: 'fails',\n",
              " 190: 'role',\n",
              " 191: 'sucked',\n",
              " 192: 'subtle',\n",
              " 193: 'world',\n",
              " 194: 'rating',\n",
              " 195: 'garbage',\n",
              " 196: 'classic',\n",
              " 197: 'spoiler',\n",
              " 198: 'god',\n",
              " 199: 'care',\n",
              " 200: 'old',\n",
              " 201: 'generally',\n",
              " 202: 'white',\n",
              " 203: 'fact',\n",
              " 204: 'felt',\n",
              " 205: 'day',\n",
              " 206: 'guess',\n",
              " 207: 'audience',\n",
              " 208: 'half',\n",
              " 209: 'end',\n",
              " 210: 'star',\n",
              " 211: 'three',\n",
              " 212: 'incredible',\n",
              " 213: 'actress',\n",
              " 214: 'used',\n",
              " 215: 'overall',\n",
              " 216: 'cheap',\n",
              " 217: 'solid',\n",
              " 218: 'perhaps',\n",
              " 219: 'moment',\n",
              " 220: 'yet',\n",
              " 221: 'mickey',\n",
              " 222: 'done',\n",
              " 223: 'keep',\n",
              " 224: 'theater',\n",
              " 225: 'enjoy',\n",
              " 226: 'bit',\n",
              " 227: 'depth',\n",
              " 228: 'terrific',\n",
              " 229: 'james',\n",
              " 230: 'budget',\n",
              " 231: 'together',\n",
              " 232: 'talk',\n",
              " 233: 'eye',\n",
              " 234: 'low',\n",
              " 235: 'got',\n",
              " 236: 'beyond',\n",
              " 237: 'completely',\n",
              " 238: 'mean',\n",
              " 239: 'place',\n",
              " 240: 'ridiculous',\n",
              " 241: 'rent',\n",
              " 242: 'new',\n",
              " 243: 'feature',\n",
              " 244: 'came',\n",
              " 245: 'cartoon',\n",
              " 246: 'said',\n",
              " 247: 'often',\n",
              " 248: 'level',\n",
              " 249: 'problem',\n",
              " 250: 'written',\n",
              " 251: 'started',\n",
              " 252: 'small',\n",
              " 253: 'kid',\n",
              " 254: 'come',\n",
              " 255: 'picture',\n",
              " 256: 'recommended',\n",
              " 257: 'disappointed',\n",
              " 258: 'looked',\n",
              " 259: 'away',\n",
              " 260: 'memorable',\n",
              " 261: 'john',\n",
              " 262: 'emotion',\n",
              " 263: 'last',\n",
              " 264: 'entire',\n",
              " 265: 'ray',\n",
              " 266: 'charles',\n",
              " 267: 'pretentious',\n",
              " 268: 'cult',\n",
              " 269: 'brilliant',\n",
              " 270: 'joy',\n",
              " 271: 'chemistry',\n",
              " 272: 'single',\n",
              " 273: 'consider',\n",
              " 274: 'scamp',\n",
              " 275: 'annoying',\n",
              " 276: 'issue',\n",
              " 277: 'stunning',\n",
              " 278: 'entertaining',\n",
              " 279: 'thinking',\n",
              " 280: 'seriously',\n",
              " 281: 'etc',\n",
              " 282: 'nut',\n",
              " 283: 'reason',\n",
              " 284: 'awesome',\n",
              " 285: 'anne',\n",
              " 286: 'utterly',\n",
              " 287: 'convincing',\n",
              " 288: 'possibly',\n",
              " 289: 'night',\n",
              " 290: 'appearance',\n",
              " 291: 'wonderfully',\n",
              " 292: 'rest',\n",
              " 293: 'lack',\n",
              " 294: 'portrayal',\n",
              " 295: 'share',\n",
              " 296: 'miyazaki',\n",
              " 297: 'cool',\n",
              " 298: 'trash',\n",
              " 299: 'coming',\n",
              " 300: 'conclusion',\n",
              " 301: 'drago',\n",
              " 302: 'dialog',\n",
              " 303: 'barely',\n",
              " 304: 'incredibly',\n",
              " 305: 'thrown',\n",
              " 306: 'unfortunately',\n",
              " 307: 'huge',\n",
              " 308: 'usual',\n",
              " 309: 'hitchcock',\n",
              " 310: 'flaw',\n",
              " 311: 'dvd',\n",
              " 312: 'acted',\n",
              " 313: 'checking',\n",
              " 314: 'american',\n",
              " 315: 'whether',\n",
              " 316: 'different',\n",
              " 317: 'production',\n",
              " 318: 'value',\n",
              " 319: 'casting',\n",
              " 320: 'u',\n",
              " 321: 'rather',\n",
              " 322: 'cost',\n",
              " 323: 'premise',\n",
              " 324: 'always',\n",
              " 325: 'idea',\n",
              " 326: 'wrong',\n",
              " 327: 'score',\n",
              " 328: 'may',\n",
              " 329: 'talented',\n",
              " 330: 'thriller',\n",
              " 331: 'pathetic',\n",
              " 332: 'anything',\n",
              " 333: 'reviewer',\n",
              " 334: 'final',\n",
              " 335: 'complete',\n",
              " 336: 'location',\n",
              " 337: 'easily',\n",
              " 338: 'laugh',\n",
              " 339: 'scenery',\n",
              " 340: 'age',\n",
              " 341: 'pure',\n",
              " 342: 'documentary',\n",
              " 343: 'occasionally',\n",
              " 344: 'touching',\n",
              " 345: 'lovely',\n",
              " 346: 'nice',\n",
              " 347: 'else',\n",
              " 348: 'result',\n",
              " 349: 'massive',\n",
              " 350: 'remember',\n",
              " 351: 'le',\n",
              " 352: 'meaning',\n",
              " 353: 'mediocre',\n",
              " 354: 'genuine',\n",
              " 355: 'heart',\n",
              " 356: 'relationship',\n",
              " 357: 'created',\n",
              " 358: 'negative',\n",
              " 359: 'strong',\n",
              " 360: 'charming',\n",
              " 361: 'adorable',\n",
              " 362: 'today',\n",
              " 363: 'graphic',\n",
              " 364: 'back',\n",
              " 365: 'produced',\n",
              " 366: 'surprisingly',\n",
              " 367: 'whatsoever',\n",
              " 368: 'try',\n",
              " 369: 'appreciate',\n",
              " 370: 'plus',\n",
              " 371: 'write',\n",
              " 372: 'thoroughly',\n",
              " 373: 'particular',\n",
              " 374: 'angle',\n",
              " 375: 'house',\n",
              " 376: 'bore',\n",
              " 377: 'already',\n",
              " 378: 'journey',\n",
              " 379: 'found',\n",
              " 380: 'making',\n",
              " 381: 'must',\n",
              " 382: 'tell',\n",
              " 383: 'next',\n",
              " 384: 'including',\n",
              " 385: 'suspense',\n",
              " 386: 'human',\n",
              " 387: 'direction',\n",
              " 388: 'silent',\n",
              " 389: 'glad',\n",
              " 390: 'fall',\n",
              " 391: 'sometimes',\n",
              " 392: 'embarrassing',\n",
              " 393: 'drive',\n",
              " 394: 'period',\n",
              " 395: 'south',\n",
              " 396: 'follow',\n",
              " 397: 'someone',\n",
              " 398: 'ready',\n",
              " 399: 'unbelievable',\n",
              " 400: 'guy',\n",
              " 401: 'tension',\n",
              " 402: 'hard',\n",
              " 403: 'soundtrack',\n",
              " 404: 'maybe',\n",
              " 405: 'credit',\n",
              " 406: 'race',\n",
              " 407: 'exactly',\n",
              " 408: 'type',\n",
              " 409: 'sister',\n",
              " 410: 'angel',\n",
              " 411: 'sequence',\n",
              " 412: 'relation',\n",
              " 413: 'true',\n",
              " 414: 'become',\n",
              " 415: 'tale',\n",
              " 416: 'handle',\n",
              " 417: 'grace',\n",
              " 418: 'course',\n",
              " 419: 'bear',\n",
              " 420: 'basically',\n",
              " 421: 'oh',\n",
              " 422: 'dance',\n",
              " 423: 'fear',\n",
              " 424: 'revealing',\n",
              " 425: 'surprising',\n",
              " 426: 'hollywood',\n",
              " 427: 'rank',\n",
              " 428: 'trilogy',\n",
              " 429: 'disturbing',\n",
              " 430: 'memory',\n",
              " 431: 'trying',\n",
              " 432: 'singing',\n",
              " 433: 'lame',\n",
              " 434: 'sure',\n",
              " 435: 'lost',\n",
              " 436: 'humorous',\n",
              " 437: 'charm',\n",
              " 438: 'humour',\n",
              " 439: 'notable',\n",
              " 440: 'ups',\n",
              " 441: 'knew',\n",
              " 442: 'studio',\n",
              " 443: 'ponyo',\n",
              " 444: 'fun',\n",
              " 445: 'imaginative',\n",
              " 446: 'childhood',\n",
              " 447: 'jamie',\n",
              " 448: 'beginning',\n",
              " 449: 'tom',\n",
              " 450: 'wilkinson',\n",
              " 451: 'matter',\n",
              " 452: 'hand',\n",
              " 453: 'suffering',\n",
              " 454: 'june',\n",
              " 455: 'impressive',\n",
              " 456: 'effective',\n",
              " 457: 'female',\n",
              " 458: 'hill',\n",
              " 459: 'volcano',\n",
              " 460: 'los',\n",
              " 461: 'angeles',\n",
              " 462: 'nonsense',\n",
              " 463: 'killing',\n",
              " 464: 'plenty',\n",
              " 465: 'plain',\n",
              " 466: 'something',\n",
              " 467: 'site',\n",
              " 468: 'chance',\n",
              " 469: 'lucy',\n",
              " 470: 'hope',\n",
              " 471: 'released',\n",
              " 472: 'choice',\n",
              " 473: 'interested',\n",
              " 474: 'poetry',\n",
              " 475: 'pleased',\n",
              " 476: 'ability',\n",
              " 477: 'camerawork',\n",
              " 478: 'twice',\n",
              " 479: 'delivering',\n",
              " 480: 'supposed',\n",
              " 481: 'shed',\n",
              " 482: 'central',\n",
              " 483: 'theme',\n",
              " 484: 'handled',\n",
              " 485: 'imagination',\n",
              " 486: 'photography',\n",
              " 487: 'composition',\n",
              " 488: 'brian',\n",
              " 489: 'adaptation',\n",
              " 490: 'process',\n",
              " 491: 'billy',\n",
              " 492: 'note',\n",
              " 493: 'mind',\n",
              " 494: 'emilio',\n",
              " 495: 'estevez',\n",
              " 496: 'directorial',\n",
              " 497: 'pacing',\n",
              " 498: 'interplay',\n",
              " 499: 'development',\n",
              " 500: 'surrounding',\n",
              " 501: 'natural',\n",
              " 502: 'average',\n",
              " 503: 'main',\n",
              " 504: 'bought',\n",
              " 505: 'supposedly',\n",
              " 506: 'heard',\n",
              " 507: 'turned',\n",
              " 508: 'decent',\n",
              " 509: 'portraying',\n",
              " 510: 'sentiment',\n",
              " 511: 'original',\n",
              " 512: 'terribly',\n",
              " 513: 'review',\n",
              " 514: 'sick',\n",
              " 515: 'despite',\n",
              " 516: 'pull',\n",
              " 517: 'superb',\n",
              " 518: 'fantastic',\n",
              " 519: 'scare',\n",
              " 520: 'redeeming',\n",
              " 521: 'insult',\n",
              " 522: 'intelligence',\n",
              " 523: 'hackneyed',\n",
              " 524: 'contained',\n",
              " 525: 'none',\n",
              " 526: 'dark',\n",
              " 527: 'daughter',\n",
              " 528: 'ago',\n",
              " 529: 'became',\n",
              " 530: 'mature',\n",
              " 531: 'accused',\n",
              " 532: 'focus',\n",
              " 533: 'predictably',\n",
              " 534: 'fx',\n",
              " 535: 'murdered',\n",
              " 536: 'church',\n",
              " 537: 'due',\n",
              " 538: 'aside',\n",
              " 539: 'load',\n",
              " 540: 'quality',\n",
              " 541: 'chick',\n",
              " 542: 'book',\n",
              " 543: 'shame',\n",
              " 544: 'computer',\n",
              " 545: 'home',\n",
              " 546: 'delight',\n",
              " 547: 'culture',\n",
              " 548: 'extremely',\n",
              " 549: 'looking',\n",
              " 550: 'cover',\n",
              " 551: 'regret',\n",
              " 552: 'recent',\n",
              " 553: 'advise',\n",
              " 554: 'ten',\n",
              " 555: 'called',\n",
              " 556: 'explain',\n",
              " 557: 'junkyard',\n",
              " 558: 'crafted',\n",
              " 559: 'summary',\n",
              " 560: 'witty',\n",
              " 561: 'bonus',\n",
              " 562: 'freedom',\n",
              " 563: 'start',\n",
              " 564: 'gave',\n",
              " 565: 'favourite',\n",
              " 566: 'friend',\n",
              " 567: 'frightening',\n",
              " 568: 'depressing',\n",
              " 569: 'award',\n",
              " 570: 'deserving',\n",
              " 571: 'unconvincing',\n",
              " 572: 'cardboard',\n",
              " 573: 'jean',\n",
              " 574: 'expect',\n",
              " 575: 'disliked',\n",
              " 576: 'empty',\n",
              " 577: 'leave',\n",
              " 578: 'cease',\n",
              " 579: 'hated',\n",
              " 580: 'sequel',\n",
              " 581: 'screenwriter',\n",
              " 582: 'force',\n",
              " 583: 'sum',\n",
              " 584: 'whatever',\n",
              " 585: 'superbly',\n",
              " 586: 'assistant',\n",
              " 587: 'example',\n",
              " 588: 'woman',\n",
              " 589: 'wholesome',\n",
              " 590: 'shelf',\n",
              " 591: 'century',\n",
              " 592: 'fox',\n",
              " 593: 'serious',\n",
              " 594: 'narrative',\n",
              " 595: 'engaging',\n",
              " 596: 'master',\n",
              " 597: 'face',\n",
              " 598: 'soul',\n",
              " 599: 'reality',\n",
              " 600: 'torture',\n",
              " 601: 'brief',\n",
              " 602: 'quinn',\n",
              " 603: 'nun',\n",
              " 604: 'tremendously',\n",
              " 605: 'viewing',\n",
              " 606: 'subject',\n",
              " 607: 'neil',\n",
              " 608: 'young',\n",
              " 609: 'dream',\n",
              " 610: 'along',\n",
              " 611: 'remake',\n",
              " 612: 'began',\n",
              " 613: 'spoil',\n",
              " 614: 'dumb',\n",
              " 615: 'excellently',\n",
              " 616: 'producer',\n",
              " 617: 'mouse',\n",
              " 618: 'following',\n",
              " 619: 'crazy',\n",
              " 620: 'wish',\n",
              " 621: 'seem',\n",
              " 622: 'modern',\n",
              " 623: 'genius',\n",
              " 624: 'visual',\n",
              " 625: 'stereotype',\n",
              " 626: 'touch',\n",
              " 627: 'case',\n",
              " 628: 'laughable',\n",
              " 629: 'appealing',\n",
              " 630: 'africa',\n",
              " 631: 'mad',\n",
              " 632: 'bunch',\n",
              " 633: 'possible',\n",
              " 634: 'although',\n",
              " 635: 'set',\n",
              " 636: 'ask',\n",
              " 637: 'sake',\n",
              " 638: 'core',\n",
              " 639: 'without',\n",
              " 640: 'explanation',\n",
              " 641: 'realistic',\n",
              " 642: 'appalling',\n",
              " 643: 'stanwyck',\n",
              " 644: 'morgan',\n",
              " 645: 'christmas',\n",
              " 646: 'dramatic',\n",
              " 647: 'took',\n",
              " 648: 'de',\n",
              " 649: 'faux',\n",
              " 650: 'creates',\n",
              " 651: 'learn',\n",
              " 652: 'whiny',\n",
              " 653: 'underneath',\n",
              " 654: 'recently',\n",
              " 655: 'costume',\n",
              " 656: 'deserved',\n",
              " 657: 'missed',\n",
              " 658: 'five',\n",
              " 659: 'paid',\n",
              " 660: 'badly',\n",
              " 661: 'noteworthy',\n",
              " 662: 'left',\n",
              " 663: 'step',\n",
              " 664: 'forget',\n",
              " 665: 'macbeth',\n",
              " 666: 'showed',\n",
              " 667: 'horrible',\n",
              " 668: 'lord',\n",
              " 669: 'previous',\n",
              " 670: 'gon',\n",
              " 671: 'na',\n",
              " 672: 'help',\n",
              " 673: 'business',\n",
              " 674: 'struck',\n",
              " 675: 'frankly',\n",
              " 676: 'dancing',\n",
              " 677: 'brilliance',\n",
              " 678: 'pointless',\n",
              " 679: 'robert',\n",
              " 680: 'father',\n",
              " 681: 'footage',\n",
              " 682: 'moving',\n",
              " 683: 'ed',\n",
              " 684: 'seems',\n",
              " 685: 'perfect',\n",
              " 686: 'animation',\n",
              " 687: 'masterpiece',\n",
              " 688: 'machine',\n",
              " 689: 'around',\n",
              " 690: 'number',\n",
              " 691: 'chilly',\n",
              " 692: 'hollow',\n",
              " 693: 'act',\n",
              " 694: 'earth',\n",
              " 695: 'bored',\n",
              " 696: 'damn',\n",
              " 697: 'ruthless',\n",
              " 698: 'happened',\n",
              " 699: 'season',\n",
              " 700: 'tear',\n",
              " 701: 'moral',\n",
              " 702: 'flawed',\n",
              " 703: 'villain',\n",
              " 704: 'either',\n",
              " 705: 'opening',\n",
              " 706: 'form',\n",
              " 707: 'lacked',\n",
              " 708: 'reaction',\n",
              " 709: 'space',\n",
              " 710: 'fat',\n",
              " 711: 'point',\n",
              " 712: 'america',\n",
              " 713: 'mexican',\n",
              " 714: 'several',\n",
              " 715: 'slow',\n",
              " 716: 'seemed',\n",
              " 717: 'betty',\n",
              " 718: 'owned',\n",
              " 719: 'ball',\n",
              " 720: 'exquisite',\n",
              " 721: 'filmed',\n",
              " 722: 'greatest',\n",
              " 723: 'smart',\n",
              " 724: 'alexander',\n",
              " 725: 'martin',\n",
              " 726: 'past',\n",
              " 727: 'jerky',\n",
              " 728: 'shakespear',\n",
              " 729: 'easy',\n",
              " 730: 'wonder',\n",
              " 731: 'cole',\n",
              " 732: 'impressed',\n",
              " 733: 'disaster',\n",
              " 734: 'lighting',\n",
              " 735: 'wind',\n",
              " 736: 'lion',\n",
              " 737: 'energy',\n",
              " 738: 'racial',\n",
              " 739: 'high',\n",
              " 740: 'sandra',\n",
              " 741: 'bullock',\n",
              " 742: 'tough',\n",
              " 743: 'dignity',\n",
              " 744: 'shocking',\n",
              " 745: 'nonetheless',\n",
              " 746: 'humor',\n",
              " 747: 'pitiful',\n",
              " 748: 'dose',\n",
              " 749: 'involves',\n",
              " 750: 'vulcan',\n",
              " 751: 'stealing',\n",
              " 752: 'enterprise',\n",
              " 753: 'uhura',\n",
              " 754: 'belly',\n",
              " 755: 'distract',\n",
              " 756: 'male',\n",
              " 757: 'guard',\n",
              " 758: 'hockey',\n",
              " 759: 'defensemen',\n",
              " 760: 'goalie',\n",
              " 761: 'diving',\n",
              " 762: 'foot',\n",
              " 763: 'wide',\n",
              " 764: 'net',\n",
              " 765: 'call',\n",
              " 766: 'stand',\n",
              " 767: 'losing',\n",
              " 768: 'heche',\n",
              " 769: 'collective',\n",
              " 770: 'head',\n",
              " 771: 'sand',\n",
              " 772: 'concerning',\n",
              " 773: 'interview',\n",
              " 774: 'vampire',\n",
              " 775: 'lestat',\n",
              " 776: 'stuart',\n",
              " 777: 'townsend',\n",
              " 778: 'cruise',\n",
              " 779: 'asleep',\n",
              " 780: 'insomniac',\n",
              " 781: 'scream',\n",
              " 782: 'finale',\n",
              " 783: 'presence',\n",
              " 784: 'animal',\n",
              " 785: 'integration',\n",
              " 786: 'obvious',\n",
              " 787: 'succeeded',\n",
              " 788: 'drawing',\n",
              " 789: 'colorful',\n",
              " 790: 'fanciful',\n",
              " 791: 'sits',\n",
              " 792: 'soldier',\n",
              " 793: 'masculinity',\n",
              " 794: 'pledge',\n",
              " 795: 'hairsplitting',\n",
              " 796: 'purity',\n",
              " 797: 'admiration',\n",
              " 798: 'sword',\n",
              " 799: 'flat',\n",
              " 800: 'nearly',\n",
              " 801: 'walked',\n",
              " 802: 'hbo',\n",
              " 803: 'comment',\n",
              " 804: 'warmth',\n",
              " 805: 'northern',\n",
              " 806: 'positive',\n",
              " 807: 'community',\n",
              " 808: 'represents',\n",
              " 809: 'disappointing',\n",
              " 810: 'aspect',\n",
              " 811: 'gore',\n",
              " 812: 'hayao',\n",
              " 813: 'latest',\n",
              " 814: 'eighth',\n",
              " 815: 'ghibili',\n",
              " 816: 'gake',\n",
              " 817: 'ue',\n",
              " 818: 'cliff',\n",
              " 819: 'sea',\n",
              " 820: 'jennifer',\n",
              " 821: 'rubin',\n",
              " 822: 'harris',\n",
              " 823: 'change',\n",
              " 824: 'nervous',\n",
              " 825: 'starlet',\n",
              " 826: 'strange',\n",
              " 827: 'event',\n",
              " 828: 'colour',\n",
              " 829: 'french',\n",
              " 830: 'flag',\n",
              " 831: 'miss',\n",
              " 832: 'prepared',\n",
              " 833: 'ordeal',\n",
              " 834: 'begin',\n",
              " 835: 'progress',\n",
              " 836: 'feel',\n",
              " 837: 'anguish',\n",
              " 838: 'allison',\n",
              " 839: 'technically',\n",
              " 840: 'riz',\n",
              " 841: 'ortolani',\n",
              " 842: 'recurring',\n",
              " 843: 'unaccompanied',\n",
              " 844: 'vocal',\n",
              " 845: 'distant',\n",
              " 846: 'bother',\n",
              " 847: 'skilled',\n",
              " 848: 'professional',\n",
              " 849: 'debbie',\n",
              " 850: 'rochon',\n",
              " 851: 'contributory',\n",
              " 852: 'former',\n",
              " 853: 'tolerable',\n",
              " 854: 'weak',\n",
              " 855: 'follows',\n",
              " 856: 'band',\n",
              " 857: 'mansonites',\n",
              " 858: 'reporter',\n",
              " 859: 'working',\n",
              " 860: 'anniversary',\n",
              " 861: 'hear',\n",
              " 862: 'speak',\n",
              " 863: 'ton',\n",
              " 864: 'granted',\n",
              " 865: 'crowd',\n",
              " 866: 'pleaser',\n",
              " 867: 'check',\n",
              " 868: 'filmography',\n",
              " 869: 'logic',\n",
              " 870: 'trumbull',\n",
              " 871: 'misplace',\n",
              " 872: 'inspiring',\n",
              " 873: 'video',\n",
              " 874: 'gross',\n",
              " 875: 'chill',\n",
              " 876: 'politics',\n",
              " 877: 'japanese',\n",
              " 878: 'disappointment',\n",
              " 879: 'kevin',\n",
              " 880: 'spacey',\n",
              " 881: 'verbal',\n",
              " 882: 'tsunami',\n",
              " 883: 'buddy',\n",
              " 884: 'ackerman',\n",
              " 885: 'dwight',\n",
              " 886: 'schultz',\n",
              " 887: 'sam',\n",
              " 888: 'shepard',\n",
              " 889: 'gung',\n",
              " 890: 'ho',\n",
              " 891: 'marine',\n",
              " 892: 'sobering',\n",
              " 893: 'cutting',\n",
              " 894: 'edge',\n",
              " 895: 'horrendously',\n",
              " 896: 'close',\n",
              " 897: 'chosen',\n",
              " 898: 'tortured',\n",
              " 899: 'disgusting',\n",
              " 900: 'blatant',\n",
              " 901: 'propaganda',\n",
              " 902: 'improved',\n",
              " 903: 'improvisation',\n",
              " 904: 'worry',\n",
              " 905: 'genre',\n",
              " 906: 'heaven',\n",
              " 907: 'twist',\n",
              " 908: 'light',\n",
              " 909: 'situation',\n",
              " 910: 'ineptly',\n",
              " 911: 'stereotypically',\n",
              " 912: 'faultless',\n",
              " 913: 'underappreciated',\n",
              " 914: 'keith',\n",
              " 915: 'bully',\n",
              " 916: 'teddy',\n",
              " 917: 'vivid',\n",
              " 918: 'reminded',\n",
              " 919: 'huston',\n",
              " 920: 'evinced',\n",
              " 921: 'faithful',\n",
              " 922: 'joyce',\n",
              " 923: 'acclaimed',\n",
              " 924: 'novella',\n",
              " 925: 'dead',\n",
              " 926: 'evidently',\n",
              " 927: 'limited',\n",
              " 928: 'soap',\n",
              " 929: 'opera',\n",
              " 930: 'intelligent',\n",
              " 931: 'highlight',\n",
              " 932: 'fundamental',\n",
              " 933: 'legal',\n",
              " 934: 'discovering',\n",
              " 935: 'guilt',\n",
              " 936: 'innocence',\n",
              " 937: 'present',\n",
              " 938: 'court',\n",
              " 939: 'dangerous',\n",
              " 940: 'side',\n",
              " 941: 'stephen',\n",
              " 942: 'mchattie',\n",
              " 943: 'lance',\n",
              " 944: 'hendrikson',\n",
              " 945: 'raging',\n",
              " 946: 'cheekbone',\n",
              " 947: 'delete',\n",
              " 948: 'debut',\n",
              " 949: 'suggest',\n",
              " 950: 'person',\n",
              " 951: 'clearly',\n",
              " 952: 'ebay',\n",
              " 953: 'mark',\n",
              " 954: 'snow',\n",
              " 955: 'put',\n",
              " 956: 'damian',\n",
              " 957: 'versatile',\n",
              " 958: 'water',\n",
              " 959: 'manages',\n",
              " 960: 'transcend',\n",
              " 961: 'limitation',\n",
              " 962: 'indie',\n",
              " 963: 'continually',\n",
              " 964: 'subverting',\n",
              " 965: 'expectation',\n",
              " 966: 'emerge',\n",
              " 967: 'intense',\n",
              " 968: 'politically',\n",
              " 969: 'correct',\n",
              " 970: 'track',\n",
              " 971: 'command',\n",
              " 972: 'contributing',\n",
              " 973: 'failed',\n",
              " 974: 'convey',\n",
              " 975: 'broad',\n",
              " 976: 'sweep',\n",
              " 977: 'landscape',\n",
              " 978: 'lazy',\n",
              " 979: 'precisely',\n",
              " 980: 'giving',\n",
              " 981: 'blew',\n",
              " 982: 'muppets',\n",
              " 983: 'babie',\n",
              " 984: 'bop',\n",
              " 985: 'cute',\n",
              " 986: 'pretext',\n",
              " 987: 'describe',\n",
              " 988: 'painfully',\n",
              " 989: 'dreary',\n",
              " 990: 'pan',\n",
              " 991: 'trek',\n",
              " 992: 'v',\n",
              " 993: 'frontier',\n",
              " 994: 'clear',\n",
              " 995: 'range',\n",
              " 996: 'hold',\n",
              " 997: 'attention',\n",
              " 998: 'emily',\n",
              " 999: 'watson',\n",
              " 1000: 'free',\n",
              " ...}"
            ]
          },
          "execution_count": 30,
          "metadata": {},
          "output_type": "execute_result"
        }
      ],
      "source": [
        "# To show unique ID of each word, use inbuilt attibutes index_word of Tokenizer class\n",
        "tok.index_word"
      ]
    },
    {
      "cell_type": "code",
      "execution_count": null,
      "id": "f6d657a9",
      "metadata": {
        "id": "f6d657a9",
        "outputId": "19564da5-dbb3-4493-ad28-86b74613f6e3"
      },
      "outputs": [
        {
          "data": {
            "text/plain": [
              "'sure lost flat character audience nearly half walked'"
            ]
          },
          "execution_count": 31,
          "metadata": {},
          "output_type": "execute_result"
        }
      ],
      "source": [
        "X_train[0] # first record"
      ]
    },
    {
      "cell_type": "code",
      "execution_count": null,
      "id": "3d5679c9",
      "metadata": {
        "id": "3d5679c9"
      },
      "outputs": [],
      "source": [
        "# Inbuilt method texts_to_sequences() of Tokenizer class\n",
        "sequence_X_train=tok.texts_to_sequences(X_train)"
      ]
    },
    {
      "cell_type": "code",
      "execution_count": null,
      "id": "46848974",
      "metadata": {
        "id": "46848974",
        "outputId": "1e808288-6ab9-4a7d-a91f-1a6e04080db7"
      },
      "outputs": [
        {
          "data": {
            "text/plain": [
              "[416, 742, 276, 743, 417, 418, 744, 197]"
            ]
          },
          "execution_count": 33,
          "metadata": {},
          "output_type": "execute_result"
        }
      ],
      "source": [
        "sequence_X_train[0] # All of these are index numbers of the sentence above (\"sure lost flat character audience nearly half walked\")\n",
        "# All the respective sentences containing words are having the index or the token number so all of them will be shown in the sequence command.\n",
        "# if there are more words in the sentence then it will show the first token and the last token for e.g. [274, 982]"
      ]
    },
    {
      "cell_type": "code",
      "execution_count": null,
      "id": "2b019698",
      "metadata": {
        "id": "2b019698",
        "outputId": "55745743-2c3f-4c20-d196-c8edcf786be7"
      },
      "outputs": [
        {
          "data": {
            "text/plain": [
              "array([[  0,   0,   0, ..., 418, 744, 197],\n",
              "       [  0,   0,   0, ...,   0, 277,   1],\n",
              "       [  0,   0,   0, ...,   0, 278, 745],\n",
              "       ...,\n",
              "       [  0,   0,   0, ...,   9,  32,   1],\n",
              "       [  0,   0,   0, ...,  73,  28,  55],\n",
              "       [  0,   0,   0, ...,   0, 341, 677]])"
            ]
          },
          "execution_count": 34,
          "metadata": {},
          "output_type": "execute_result"
        }
      ],
      "source": [
        "# Add padding sequence\n",
        "# Use unbuilt class sequence\n",
        "from tensorflow.keras.preprocessing import sequence\n",
        "\n",
        "# Create object of sequence class and passing the following arguments\n",
        "sequence_train=sequence.pad_sequences(sequence_X_train, maxlen=max_length)\n",
        "sequence_train"
      ]
    },
    {
      "cell_type": "code",
      "execution_count": null,
      "id": "3908a188",
      "metadata": {
        "id": "3908a188",
        "outputId": "64481ca3-54da-4f5b-fae0-bd7a64802209"
      },
      "outputs": [
        {
          "data": {
            "text/plain": [
              "(numpy.ndarray, 2)"
            ]
          },
          "execution_count": 35,
          "metadata": {},
          "output_type": "execute_result"
        }
      ],
      "source": [
        "type(sequence_train), sequence_train.ndim"
      ]
    },
    {
      "cell_type": "code",
      "execution_count": null,
      "id": "b9cb37c8",
      "metadata": {
        "id": "b9cb37c8",
        "outputId": "366128d0-2718-4673-c6db-3f359312292e"
      },
      "outputs": [
        {
          "data": {
            "text/plain": [
              "array([  0,   0,   0,   0,   0,   0,   0,   0,   0, 416, 742, 276, 743,\n",
              "       417, 418, 744, 197])"
            ]
          },
          "execution_count": 36,
          "metadata": {},
          "output_type": "execute_result"
        }
      ],
      "source": [
        "sequence_train[0]"
      ]
    },
    {
      "cell_type": "code",
      "execution_count": null,
      "id": "35d0a042",
      "metadata": {
        "id": "35d0a042",
        "outputId": "1ee11eb1-5733-488b-a40c-4b55efcc9ab2"
      },
      "outputs": [
        {
          "data": {
            "text/plain": [
              "2099"
            ]
          },
          "execution_count": 37,
          "metadata": {},
          "output_type": "execute_result"
        }
      ],
      "source": [
        "vocab_len=len(tok.index_word)\n",
        "vocab_len"
      ]
    },
    {
      "cell_type": "code",
      "execution_count": null,
      "id": "c1e30b0c",
      "metadata": {
        "id": "c1e30b0c"
      },
      "outputs": [],
      "source": [
        "# Perform model with the help of RNN\n",
        "# Call library\n",
        "from tensorflow.keras.models import Sequential"
      ]
    },
    {
      "cell_type": "code",
      "execution_count": null,
      "id": "2329fd42",
      "metadata": {
        "id": "2329fd42",
        "outputId": "dde5f16a-28cf-43ea-88cb-a56bc4f93e41"
      },
      "outputs": [
        {
          "name": "stdout",
          "output_type": "stream",
          "text": [
            "WARNING:tensorflow:From C:\\Users\\Dell Latitude 3520\\anaconda3\\lib\\site-packages\\keras\\src\\backend.py:873: The name tf.get_default_graph is deprecated. Please use tf.compat.v1.get_default_graph instead.\n",
            "\n"
          ]
        }
      ],
      "source": [
        "# Create object of Sequential class\n",
        "model=Sequential()"
      ]
    },
    {
      "cell_type": "code",
      "execution_count": null,
      "id": "fbe72461",
      "metadata": {
        "id": "fbe72461"
      },
      "outputs": [],
      "source": [
        "from tensorflow.keras.layers import Embedding, SimpleRNN, Dense, Dropout\n",
        "model.add(Embedding(vocab_len+1,500,input_length=max_length,mask_zero=True))\n",
        "# 500: It is the length of the output\n",
        "# Take RNN(Recurrent Neural Network)\n",
        "model.add(SimpleRNN(units=64,activation='tanh'))\n",
        "model.add(Dense(units=64,activation='relu'))\n",
        "model.add(Dropout(0.2))  # To reduce overfitting\n",
        "model.add(Dense(units=1,activation='sigmoid')) # output layer"
      ]
    },
    {
      "cell_type": "code",
      "execution_count": null,
      "id": "5a70f2b7",
      "metadata": {
        "id": "5a70f2b7",
        "outputId": "ab7786a5-aea2-4e35-bb09-16c8c6e453bd"
      },
      "outputs": [
        {
          "name": "stdout",
          "output_type": "stream",
          "text": [
            "WARNING:tensorflow:From C:\\Users\\Dell Latitude 3520\\anaconda3\\lib\\site-packages\\keras\\src\\optimizers\\__init__.py:309: The name tf.train.Optimizer is deprecated. Please use tf.compat.v1.train.Optimizer instead.\n",
            "\n"
          ]
        }
      ],
      "source": [
        "# Compile the model\n",
        "model.compile(optimizer='adam',loss='binary_crossentropy',metrics=['accuracy'])\n",
        "\n",
        "#Early stopping : - it is decided no of epochs.\n",
        "#create procedure for early stopping : why to decide number of epoch\n",
        "from tensorflow.keras.callbacks import EarlyStopping"
      ]
    },
    {
      "cell_type": "code",
      "execution_count": null,
      "id": "436f49f8",
      "metadata": {
        "id": "436f49f8"
      },
      "outputs": [],
      "source": [
        "#create object of early stopping\n",
        "es=EarlyStopping(monitor=\"val_loss\",\n",
        "    min_delta=0.001,\n",
        "    patience=20,\n",
        "    verbose=1,\n",
        "    mode=\"auto\",\n",
        "    baseline=None,\n",
        "    restore_best_weights=False)"
      ]
    },
    {
      "cell_type": "code",
      "execution_count": null,
      "id": "6fbdfaf2",
      "metadata": {
        "id": "6fbdfaf2",
        "outputId": "f38b2eb2-c1b2-4a0d-8a4e-2480f4001daa"
      },
      "outputs": [
        {
          "name": "stdout",
          "output_type": "stream",
          "text": [
            "Epoch 1/2000\n",
            "WARNING:tensorflow:From C:\\Users\\Dell Latitude 3520\\anaconda3\\lib\\site-packages\\keras\\src\\utils\\tf_utils.py:492: The name tf.ragged.RaggedTensorValue is deprecated. Please use tf.compat.v1.ragged.RaggedTensorValue instead.\n",
            "\n",
            "WARNING:tensorflow:From C:\\Users\\Dell Latitude 3520\\anaconda3\\lib\\site-packages\\keras\\src\\engine\\base_layer_utils.py:384: The name tf.executing_eagerly_outside_functions is deprecated. Please use tf.compat.v1.executing_eagerly_outside_functions instead.\n",
            "\n",
            "12/12 [==============================] - 3s 56ms/step - loss: 0.6901 - accuracy: 0.5420 - val_loss: 0.6911 - val_accuracy: 0.5714\n",
            "Epoch 2/2000\n",
            "12/12 [==============================] - 0s 25ms/step - loss: 0.5345 - accuracy: 0.9320 - val_loss: 0.6699 - val_accuracy: 0.5857\n",
            "Epoch 3/2000\n",
            "12/12 [==============================] - 0s 23ms/step - loss: 0.2994 - accuracy: 0.9732 - val_loss: 0.6769 - val_accuracy: 0.6357\n",
            "Epoch 4/2000\n",
            "12/12 [==============================] - 0s 24ms/step - loss: 0.1167 - accuracy: 0.9821 - val_loss: 0.8186 - val_accuracy: 0.6429\n",
            "Epoch 5/2000\n",
            "12/12 [==============================] - 0s 27ms/step - loss: 0.0462 - accuracy: 0.9911 - val_loss: 1.0126 - val_accuracy: 0.6714\n",
            "Epoch 6/2000\n",
            "12/12 [==============================] - 0s 26ms/step - loss: 0.0259 - accuracy: 0.9946 - val_loss: 1.1368 - val_accuracy: 0.6786\n",
            "Epoch 7/2000\n",
            "12/12 [==============================] - 0s 23ms/step - loss: 0.0177 - accuracy: 0.9946 - val_loss: 1.2011 - val_accuracy: 0.6786\n",
            "Epoch 8/2000\n",
            "12/12 [==============================] - 0s 27ms/step - loss: 0.0146 - accuracy: 0.9946 - val_loss: 1.2423 - val_accuracy: 0.6857\n",
            "Epoch 9/2000\n",
            "12/12 [==============================] - 0s 23ms/step - loss: 0.0118 - accuracy: 0.9946 - val_loss: 1.2712 - val_accuracy: 0.6857\n",
            "Epoch 10/2000\n",
            "12/12 [==============================] - 0s 27ms/step - loss: 0.0105 - accuracy: 0.9946 - val_loss: 1.3014 - val_accuracy: 0.6857\n",
            "Epoch 11/2000\n",
            "12/12 [==============================] - 0s 26ms/step - loss: 0.0095 - accuracy: 0.9946 - val_loss: 1.3288 - val_accuracy: 0.6786\n",
            "Epoch 12/2000\n",
            "12/12 [==============================] - 0s 29ms/step - loss: 0.0096 - accuracy: 0.9946 - val_loss: 1.3486 - val_accuracy: 0.6786\n",
            "Epoch 13/2000\n",
            "12/12 [==============================] - 0s 26ms/step - loss: 0.0093 - accuracy: 0.9946 - val_loss: 1.3716 - val_accuracy: 0.6786\n",
            "Epoch 14/2000\n",
            "12/12 [==============================] - 0s 24ms/step - loss: 0.0092 - accuracy: 0.9946 - val_loss: 1.3972 - val_accuracy: 0.6714\n",
            "Epoch 15/2000\n",
            "12/12 [==============================] - 0s 26ms/step - loss: 0.0090 - accuracy: 0.9946 - val_loss: 1.4099 - val_accuracy: 0.6714\n",
            "Epoch 16/2000\n",
            "12/12 [==============================] - 0s 25ms/step - loss: 0.0086 - accuracy: 0.9946 - val_loss: 1.4300 - val_accuracy: 0.6714\n",
            "Epoch 17/2000\n",
            "12/12 [==============================] - 0s 26ms/step - loss: 0.0084 - accuracy: 0.9946 - val_loss: 1.4451 - val_accuracy: 0.6714\n",
            "Epoch 18/2000\n",
            "12/12 [==============================] - 0s 26ms/step - loss: 0.0083 - accuracy: 0.9946 - val_loss: 1.4684 - val_accuracy: 0.6714\n",
            "Epoch 19/2000\n",
            "12/12 [==============================] - 0s 24ms/step - loss: 0.0083 - accuracy: 0.9946 - val_loss: 1.4827 - val_accuracy: 0.6714\n",
            "Epoch 20/2000\n",
            "12/12 [==============================] - 0s 24ms/step - loss: 0.0080 - accuracy: 0.9946 - val_loss: 1.4946 - val_accuracy: 0.6714\n",
            "Epoch 21/2000\n",
            "12/12 [==============================] - 0s 24ms/step - loss: 0.0078 - accuracy: 0.9946 - val_loss: 1.5067 - val_accuracy: 0.6714\n",
            "Epoch 22/2000\n",
            "12/12 [==============================] - 0s 23ms/step - loss: 0.0082 - accuracy: 0.9946 - val_loss: 1.5135 - val_accuracy: 0.6714\n",
            "Epoch 22: early stopping\n"
          ]
        },
        {
          "data": {
            "text/plain": [
              "<keras.src.callbacks.History at 0x26f3800b910>"
            ]
          },
          "execution_count": 43,
          "metadata": {},
          "output_type": "execute_result"
        }
      ],
      "source": [
        "#train the model\n",
        "model.fit(sequence_train,Y_train,batch_size=50,epochs=2000,validation_split=0.2,callbacks=es)"
      ]
    },
    {
      "cell_type": "code",
      "execution_count": null,
      "id": "bd8c2142",
      "metadata": {
        "id": "bd8c2142",
        "outputId": "b35b59a7-94b1-4428-e566-9672e8a4d770"
      },
      "outputs": [
        {
          "name": "stdout",
          "output_type": "stream",
          "text": [
            "22/22 [==============================] - 0s 4ms/step - loss: 0.3092 - accuracy: 0.9299\n"
          ]
        },
        {
          "data": {
            "text/plain": [
              "[0.3092323839664459, 0.9298998713493347]"
            ]
          },
          "execution_count": 44,
          "metadata": {},
          "output_type": "execute_result"
        }
      ],
      "source": [
        "model.evaluate(sequence_train,Y_train)"
      ]
    },
    {
      "cell_type": "code",
      "execution_count": null,
      "id": "99f4222c",
      "metadata": {
        "id": "99f4222c",
        "outputId": "9268e794-0a50-403a-d442-0d62f695ac14"
      },
      "outputs": [
        {
          "data": {
            "text/plain": [
              "507                          film lack convincing script\n",
              "608                also enough hypocrisy film make vomit\n",
              "452                                 even good camp value\n",
              "368    make scared horrified make sympathetic towards...\n",
              "242    film great actor master director significant t...\n",
              "                             ...                        \n",
              "459    know contract player little control script act...\n",
              "415                          fan movie sucked really bad\n",
              "61                             think tom hank good actor\n",
              "347                                                 lame\n",
              "349                              everything movie stupid\n",
              "Name: review, Length: 300, dtype: object"
            ]
          },
          "execution_count": 45,
          "metadata": {},
          "output_type": "execute_result"
        }
      ],
      "source": [
        "# if predict the model, apply same process on X_test similar as X_train\n",
        "X_test"
      ]
    },
    {
      "cell_type": "code",
      "execution_count": null,
      "id": "4f5ab966",
      "metadata": {
        "id": "4f5ab966",
        "outputId": "4d082954-5b12-44eb-bfa7-9d46d8605076"
      },
      "outputs": [
        {
          "data": {
            "text/plain": [
              "[2, 293, 287, 44]"
            ]
          },
          "execution_count": 46,
          "metadata": {},
          "output_type": "execute_result"
        }
      ],
      "source": [
        "sequence_X_test=tok.texts_to_sequences(X_test)\n",
        "sequence_X_test[0]"
      ]
    },
    {
      "cell_type": "code",
      "execution_count": null,
      "id": "51296cd1",
      "metadata": {
        "id": "51296cd1",
        "outputId": "11dd3fd2-8ad9-4e74-d3ae-8ca5ca4bbf2a"
      },
      "outputs": [
        {
          "data": {
            "text/plain": [
              "array([  0,   0,   0,   0,   0,   0,   0,   0,   0,   0,   0,   0,   0,\n",
              "         2, 293, 287,  44])"
            ]
          },
          "execution_count": 47,
          "metadata": {},
          "output_type": "execute_result"
        }
      ],
      "source": [
        "# Add padding Sequence\n",
        "sequence_test=sequence.pad_sequences(sequence_X_test,maxlen=max_length)\n",
        "sequence_test[0]"
      ]
    },
    {
      "cell_type": "code",
      "execution_count": null,
      "id": "6f9323f0",
      "metadata": {
        "id": "6f9323f0",
        "outputId": "bf8e040a-3107-4f73-c18b-1b923fdf87ea"
      },
      "outputs": [
        {
          "name": "stdout",
          "output_type": "stream",
          "text": [
            "10/10 [==============================] - 0s 5ms/step\n"
          ]
        }
      ],
      "source": [
        "# test the model with 30% data, use inbuilt method predict()\n",
        "Y_pred=model.predict(sequence_test).round(2)"
      ]
    },
    {
      "cell_type": "code",
      "execution_count": null,
      "id": "d5734f2d",
      "metadata": {
        "id": "d5734f2d",
        "outputId": "07ef4677-09cf-4191-db3a-96a3e01cf9aa"
      },
      "outputs": [
        {
          "data": {
            "text/plain": [
              "array([[1],\n",
              "       [1],\n",
              "       [0],\n",
              "       [0],\n",
              "       [1],\n",
              "       [1],\n",
              "       [0],\n",
              "       [1],\n",
              "       [1],\n",
              "       [0],\n",
              "       [1],\n",
              "       [0],\n",
              "       [1],\n",
              "       [0],\n",
              "       [1],\n",
              "       [0],\n",
              "       [0],\n",
              "       [1],\n",
              "       [1],\n",
              "       [1],\n",
              "       [1],\n",
              "       [0],\n",
              "       [0],\n",
              "       [1],\n",
              "       [0],\n",
              "       [1],\n",
              "       [0],\n",
              "       [1],\n",
              "       [0],\n",
              "       [1],\n",
              "       [1],\n",
              "       [0],\n",
              "       [1],\n",
              "       [1],\n",
              "       [1],\n",
              "       [1],\n",
              "       [1],\n",
              "       [1],\n",
              "       [0],\n",
              "       [1],\n",
              "       [1],\n",
              "       [1],\n",
              "       [0],\n",
              "       [0],\n",
              "       [1],\n",
              "       [0],\n",
              "       [0],\n",
              "       [1],\n",
              "       [0],\n",
              "       [0],\n",
              "       [0],\n",
              "       [1],\n",
              "       [0],\n",
              "       [1],\n",
              "       [0],\n",
              "       [1],\n",
              "       [0],\n",
              "       [1],\n",
              "       [0],\n",
              "       [1],\n",
              "       [1],\n",
              "       [0],\n",
              "       [0],\n",
              "       [0],\n",
              "       [1],\n",
              "       [0],\n",
              "       [0],\n",
              "       [0],\n",
              "       [0],\n",
              "       [1],\n",
              "       [1],\n",
              "       [0],\n",
              "       [0],\n",
              "       [0],\n",
              "       [1],\n",
              "       [1],\n",
              "       [0],\n",
              "       [1],\n",
              "       [1],\n",
              "       [0],\n",
              "       [1],\n",
              "       [1],\n",
              "       [1],\n",
              "       [1],\n",
              "       [1],\n",
              "       [1],\n",
              "       [0],\n",
              "       [1],\n",
              "       [0],\n",
              "       [0],\n",
              "       [0],\n",
              "       [1],\n",
              "       [1],\n",
              "       [1],\n",
              "       [1],\n",
              "       [0],\n",
              "       [1],\n",
              "       [1],\n",
              "       [1],\n",
              "       [0],\n",
              "       [1],\n",
              "       [1],\n",
              "       [0],\n",
              "       [0],\n",
              "       [0],\n",
              "       [1],\n",
              "       [1],\n",
              "       [1],\n",
              "       [1],\n",
              "       [1],\n",
              "       [1],\n",
              "       [0],\n",
              "       [1],\n",
              "       [1],\n",
              "       [1],\n",
              "       [1],\n",
              "       [0],\n",
              "       [0],\n",
              "       [1],\n",
              "       [1],\n",
              "       [1],\n",
              "       [1],\n",
              "       [1],\n",
              "       [1],\n",
              "       [1],\n",
              "       [1],\n",
              "       [0],\n",
              "       [1],\n",
              "       [1],\n",
              "       [1],\n",
              "       [0],\n",
              "       [0],\n",
              "       [1],\n",
              "       [1],\n",
              "       [0],\n",
              "       [1],\n",
              "       [0],\n",
              "       [1],\n",
              "       [1],\n",
              "       [0],\n",
              "       [0],\n",
              "       [1],\n",
              "       [1],\n",
              "       [1],\n",
              "       [1],\n",
              "       [0],\n",
              "       [1],\n",
              "       [1],\n",
              "       [1],\n",
              "       [0],\n",
              "       [1],\n",
              "       [0],\n",
              "       [1],\n",
              "       [1],\n",
              "       [0],\n",
              "       [1],\n",
              "       [1],\n",
              "       [1],\n",
              "       [0],\n",
              "       [1],\n",
              "       [0],\n",
              "       [1],\n",
              "       [1],\n",
              "       [0],\n",
              "       [1],\n",
              "       [0],\n",
              "       [1],\n",
              "       [1],\n",
              "       [1],\n",
              "       [1],\n",
              "       [1],\n",
              "       [1],\n",
              "       [1],\n",
              "       [0],\n",
              "       [1],\n",
              "       [1],\n",
              "       [0],\n",
              "       [0],\n",
              "       [1],\n",
              "       [1],\n",
              "       [1],\n",
              "       [1],\n",
              "       [1],\n",
              "       [1],\n",
              "       [1],\n",
              "       [1],\n",
              "       [1],\n",
              "       [1],\n",
              "       [1],\n",
              "       [1],\n",
              "       [0],\n",
              "       [1],\n",
              "       [0],\n",
              "       [0],\n",
              "       [1],\n",
              "       [1],\n",
              "       [0],\n",
              "       [0],\n",
              "       [0],\n",
              "       [0],\n",
              "       [1],\n",
              "       [0],\n",
              "       [0],\n",
              "       [0],\n",
              "       [0],\n",
              "       [1],\n",
              "       [0],\n",
              "       [1],\n",
              "       [1],\n",
              "       [1],\n",
              "       [0],\n",
              "       [1],\n",
              "       [0],\n",
              "       [0],\n",
              "       [0],\n",
              "       [1],\n",
              "       [0],\n",
              "       [1],\n",
              "       [0],\n",
              "       [1],\n",
              "       [0],\n",
              "       [0],\n",
              "       [1],\n",
              "       [1],\n",
              "       [1],\n",
              "       [1],\n",
              "       [0],\n",
              "       [1],\n",
              "       [1],\n",
              "       [1],\n",
              "       [0],\n",
              "       [0],\n",
              "       [1],\n",
              "       [1],\n",
              "       [1],\n",
              "       [1],\n",
              "       [0],\n",
              "       [1],\n",
              "       [0],\n",
              "       [1],\n",
              "       [1],\n",
              "       [0],\n",
              "       [1],\n",
              "       [1],\n",
              "       [0],\n",
              "       [1],\n",
              "       [1],\n",
              "       [1],\n",
              "       [0],\n",
              "       [1],\n",
              "       [1],\n",
              "       [1],\n",
              "       [1],\n",
              "       [0],\n",
              "       [1],\n",
              "       [1],\n",
              "       [1],\n",
              "       [0],\n",
              "       [1],\n",
              "       [1],\n",
              "       [0],\n",
              "       [0],\n",
              "       [0],\n",
              "       [1],\n",
              "       [1],\n",
              "       [1],\n",
              "       [1],\n",
              "       [0],\n",
              "       [1],\n",
              "       [1],\n",
              "       [1],\n",
              "       [1],\n",
              "       [1],\n",
              "       [0],\n",
              "       [0],\n",
              "       [0],\n",
              "       [1],\n",
              "       [1],\n",
              "       [1],\n",
              "       [1],\n",
              "       [0],\n",
              "       [0],\n",
              "       [0],\n",
              "       [0],\n",
              "       [0],\n",
              "       [1],\n",
              "       [0],\n",
              "       [1],\n",
              "       [0],\n",
              "       [0],\n",
              "       [1],\n",
              "       [0],\n",
              "       [0],\n",
              "       [0],\n",
              "       [0],\n",
              "       [0],\n",
              "       [1],\n",
              "       [0],\n",
              "       [0],\n",
              "       [1]])"
            ]
          },
          "execution_count": 49,
          "metadata": {},
          "output_type": "execute_result"
        }
      ],
      "source": [
        "Y_pred=np.where(Y_pred>=0.5,1,0)\n",
        "Y_pred"
      ]
    },
    {
      "cell_type": "code",
      "execution_count": null,
      "id": "8a7a0ba7",
      "metadata": {
        "id": "8a7a0ba7",
        "outputId": "c888c2d6-370b-438c-9cb8-5b938879752d"
      },
      "outputs": [
        {
          "name": "stdout",
          "output_type": "stream",
          "text": [
            "              precision    recall  f1-score   support\n",
            "\n",
            "           0       0.69      0.55      0.61       151\n",
            "           1       0.62      0.75      0.68       149\n",
            "\n",
            "    accuracy                           0.65       300\n",
            "   macro avg       0.66      0.65      0.65       300\n",
            "weighted avg       0.66      0.65      0.65       300\n",
            "\n",
            "[[ 83  68]\n",
            " [ 37 112]]\n"
          ]
        }
      ],
      "source": [
        "from sklearn.metrics import classification_report,confusion_matrix\n",
        "print(classification_report(Y_test,Y_pred))\n",
        "print(confusion_matrix(Y_test,Y_pred))"
      ]
    },
    {
      "cell_type": "code",
      "execution_count": null,
      "id": "a72407b6",
      "metadata": {
        "id": "a72407b6"
      },
      "outputs": [],
      "source": []
    }
  ],
  "metadata": {
    "kernelspec": {
      "display_name": "Python 3 (ipykernel)",
      "language": "python",
      "name": "python3"
    },
    "language_info": {
      "codemirror_mode": {
        "name": "ipython",
        "version": 3
      },
      "file_extension": ".py",
      "mimetype": "text/x-python",
      "name": "python",
      "nbconvert_exporter": "python",
      "pygments_lexer": "ipython3",
      "version": "3.10.13"
    },
    "colab": {
      "provenance": [],
      "include_colab_link": true
    }
  },
  "nbformat": 4,
  "nbformat_minor": 5
}